{
  "nbformat": 4,
  "nbformat_minor": 0,
  "metadata": {
    "colab": {
      "name": "Folium Styleing.ipynb",
      "provenance": [],
      "authorship_tag": "ABX9TyMUC8i/SgyOw1s/xs/ZqIP7",
      "include_colab_link": true
    },
    "kernelspec": {
      "name": "python3",
      "display_name": "Python 3"
    }
  },
  "cells": [
    {
      "cell_type": "markdown",
      "metadata": {
        "id": "view-in-github",
        "colab_type": "text"
      },
      "source": [
        "<a href=\"https://colab.research.google.com/github/ThitZaw/Colab/blob/master/Folium_Styleing.ipynb\" target=\"_parent\"><img src=\"https://colab.research.google.com/assets/colab-badge.svg\" alt=\"Open In Colab\"/></a>"
      ]
    },
    {
      "cell_type": "code",
      "metadata": {
        "id": "_FqSkVTbNqHk",
        "colab_type": "code",
        "colab": {}
      },
      "source": [
        "import pandas as pd\n",
        "import folium\n",
        "\n",
        "url = 'https://raw.githubusercontent.com/python-visualization/folium/master/examples/data'\n",
        "state_geo = f'{url}/us-states.json'\n",
        "state_unemployment = f'{url}/US_Unemployment_Oct2012.csv'\n",
        "state_data = pd.read_csv(state_unemployment)\n",
        "\n",
        "m = folium.Map(location=[48, -102], zoom_start=3)"
      ],
      "execution_count": 0,
      "outputs": []
    },
    {
      "cell_type": "code",
      "metadata": {
        "id": "ri_2CtEsNuk_",
        "colab_type": "code",
        "outputId": "35911477-a806-4d79-ce7d-0e007c60cc90",
        "colab": {
          "base_uri": "https://localhost:8080/",
          "height": 206
        }
      },
      "source": [
        "state_data.head()"
      ],
      "execution_count": 0,
      "outputs": [
        {
          "output_type": "execute_result",
          "data": {
            "text/html": [
              "<div>\n",
              "<style scoped>\n",
              "    .dataframe tbody tr th:only-of-type {\n",
              "        vertical-align: middle;\n",
              "    }\n",
              "\n",
              "    .dataframe tbody tr th {\n",
              "        vertical-align: top;\n",
              "    }\n",
              "\n",
              "    .dataframe thead th {\n",
              "        text-align: right;\n",
              "    }\n",
              "</style>\n",
              "<table border=\"1\" class=\"dataframe\">\n",
              "  <thead>\n",
              "    <tr style=\"text-align: right;\">\n",
              "      <th></th>\n",
              "      <th>State</th>\n",
              "      <th>Unemployment</th>\n",
              "    </tr>\n",
              "  </thead>\n",
              "  <tbody>\n",
              "    <tr>\n",
              "      <th>0</th>\n",
              "      <td>AL</td>\n",
              "      <td>7.1</td>\n",
              "    </tr>\n",
              "    <tr>\n",
              "      <th>1</th>\n",
              "      <td>AK</td>\n",
              "      <td>6.8</td>\n",
              "    </tr>\n",
              "    <tr>\n",
              "      <th>2</th>\n",
              "      <td>AZ</td>\n",
              "      <td>8.1</td>\n",
              "    </tr>\n",
              "    <tr>\n",
              "      <th>3</th>\n",
              "      <td>AR</td>\n",
              "      <td>7.2</td>\n",
              "    </tr>\n",
              "    <tr>\n",
              "      <th>4</th>\n",
              "      <td>CA</td>\n",
              "      <td>10.1</td>\n",
              "    </tr>\n",
              "  </tbody>\n",
              "</table>\n",
              "</div>"
            ],
            "text/plain": [
              "  State  Unemployment\n",
              "0    AL           7.1\n",
              "1    AK           6.8\n",
              "2    AZ           8.1\n",
              "3    AR           7.2\n",
              "4    CA          10.1"
            ]
          },
          "metadata": {
            "tags": []
          },
          "execution_count": 3
        }
      ]
    },
    {
      "cell_type": "code",
      "metadata": {
        "id": "d9AAGXiaOyxQ",
        "colab_type": "code",
        "colab": {}
      },
      "source": [
        "folium.Choropleth(\n",
        "    geo_data=state_geo,\n",
        "    name='choropleth',\n",
        "    data=state_data,\n",
        "    columns=['State', 'Unemployment'],\n",
        "    key_on='feature.id',\n",
        "    fill_color='BuPu',\n",
        "    fill_opacity=0.7,\n",
        "    line_opacity=0.2,\n",
        "    legend_name='Unemployment Rate (%)'\n",
        ").add_to(m)\n",
        "\n",
        "folium.LayerControl().add_to(m)\n",
        "\n",
        "m"
      ],
      "execution_count": 0,
      "outputs": []
    },
    {
      "cell_type": "code",
      "metadata": {
        "id": "caNzkvG4ho4e",
        "colab_type": "code",
        "colab": {}
      },
      "source": [
        "import branca\n",
        "import json\n",
        "import requests\n",
        "\n",
        "url = 'https://raw.githubusercontent.com/python-visualization/folium/master/examples/data'\n",
        "county_data = f'{url}/us_county_data.csv'\n",
        "county_geo = f'{url}/us_counties_20m_topo.json'\n",
        "\n",
        "\n",
        "df = pd.read_csv(county_data, na_values=[' '])\n",
        "df.head()\n",
        "\n"
      ],
      "execution_count": 0,
      "outputs": []
    },
    {
      "cell_type": "code",
      "metadata": {
        "id": "Zxo0tirYi2vO",
        "colab_type": "code",
        "colab": {}
      },
      "source": [
        "colorscale = branca.colormap.linear.YlOrRd_09.scale(0, 50e3)\n",
        "employed_series = df.set_index('FIPS_Code')['Employed_2011']\n",
        "employed_series"
      ],
      "execution_count": 0,
      "outputs": []
    },
    {
      "cell_type": "code",
      "metadata": {
        "id": "8RtQ3RWFlUT0",
        "colab_type": "code",
        "colab": {}
      },
      "source": [
        "m = folium.Map(location=[48, -102],tiles='cartodbpositron',zoom_start=3)"
      ],
      "execution_count": 0,
      "outputs": []
    },
    {
      "cell_type": "code",
      "metadata": {
        "id": "8aUKTI8SliU1",
        "colab_type": "code",
        "colab": {}
      },
      "source": [
        "geo_data_json = json.loads(requests.get(county_geo).text)"
      ],
      "execution_count": 0,
      "outputs": []
    },
    {
      "cell_type": "code",
      "metadata": {
        "id": "MkEfOV8DlmKb",
        "colab_type": "code",
        "colab": {}
      },
      "source": [
        "geo_data_json"
      ],
      "execution_count": 0,
      "outputs": []
    },
    {
      "cell_type": "code",
      "metadata": {
        "id": "gOepcz4EjoQX",
        "colab_type": "code",
        "colab": {}
      },
      "source": [
        "def style_function(feature):\n",
        "    print(feature['id'][-5])\n",
        "    employed = employed_series.get(int(feature['id'][-5:]), None)\n",
        "    return {\n",
        "        'fillOpacity': 0.5,\n",
        "        'weight': 0,\n",
        "        'fillColor': '#black' if employed is None else colorscale(employed)\n",
        "    }\n",
        "\n",
        "folium.TopoJson(geo_data_json ,'objects.us_counties_20m',style_function=style_function).add_to(m)\n",
        "\n",
        "\n"
      ],
      "execution_count": 0,
      "outputs": []
    }
  ]
}
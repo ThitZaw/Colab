{
  "nbformat": 4,
  "nbformat_minor": 0,
  "metadata": {
    "colab": {
      "name": "Brute Force Search Algo.ipynb",
      "version": "0.3.2",
      "provenance": []
    },
    "kernelspec": {
      "display_name": "Python 3",
      "language": "python",
      "name": "python3"
    }
  },
  "cells": [
    {
      "metadata": {
        "id": "76nscX8kBQ-k",
        "colab_type": "code",
        "colab": {}
      },
      "cell_type": "code",
      "source": [
        "from google.colab import files\n",
        "uploaded = files.upload()"
      ],
      "execution_count": 0,
      "outputs": []
    },
    {
      "metadata": {
        "id": "WrbEspGCBQ-P",
        "colab_type": "code",
        "colab": {}
      },
      "cell_type": "code",
      "source": [
        "import itertools,pandas,io\n",
        "\n",
        "def Possible_match_pair(seller,buyer):    \n",
        "    match_dict = []\n",
        "    y = list(itertools.product(seller, repeat=len(buyer)))\n",
        "    \n",
        "    for i in y:\n",
        "        this_dic = dict()\n",
        "        for j in range(len(i)): \n",
        "            this_dic[buyer[j]] = i[j]  \n",
        "        match_dict.append(this_dic)\n",
        "    return match_dict\n",
        "\n",
        "def reduce_match_pair_by_quantity(buyer_csv_info,seller_inventory,match_dict):\n",
        "    valid_pair = []\n",
        "    for keys in match_dict:        \n",
        "        inventory = seller_inventory.copy()\n",
        "        temp_list = []\n",
        "        \n",
        "        for key,value in keys.items():\n",
        "            if buyer_csv_info[key]<=inventory[value]:\n",
        "                inventory[value] -= buyer_csv_info[key]\n",
        "                temp_list.append(True)\n",
        "            else:\n",
        "                temp_list.append(False)\n",
        "              \n",
        "        if all(temp_list):\n",
        "            valid_pair.append(keys)\n",
        "    return valid_pair\n",
        "\n",
        "def get_cost(valid_pair,buyer_csv_info,seller_price,seller_discount,seller_minamt):\n",
        "    price = []  \n",
        "    \n",
        "    for i in valid_pair:\n",
        "        flipped = {}\n",
        "        total_price = 0\n",
        "        discount = 0\n",
        "        for key, value in i.items():\n",
        "            if value not in flipped:\n",
        "                flipped[value] = [buyer_csv_info[key]*seller_price[value]]\n",
        "            else:\n",
        "                 flipped[value] += [buyer_csv_info[key]*seller_price[value]]\n",
        "                \n",
        "        print(flipped)        \n",
        "                \n",
        "        for k,v in flipped.items():\n",
        "            if seller_minamt[k]<=sum(v):\n",
        "                discount += int(seller_discount[k].strip(\"%\\n \"))\n",
        "                total_price += sum(v)-(sum(v)*(int(seller_discount[k].strip(\"%\\n \"))/100)) \n",
        "            else:\n",
        "                total_price+=sum(v)\n",
        "        price.append({\"match pair\":str(i),\"price\":total_price,\"discount\":discount})\n",
        "    return price    \n",
        "\n",
        "def bestpair(price):\n",
        "    #search the best individual among population.\n",
        "    best_pair = price[0]\n",
        "    for i in range(len(price)):\n",
        "        if best_pair[\"price\"]>=price[i][\"price\"]:\n",
        "            best_pair = price[i]        \n",
        "    return best_pair  \n",
        "  \n",
        "def main():\n",
        "    match_dict = []\n",
        "    seller_data = []\n",
        "    buyer_data =[]\n",
        "    valid_pair =[]\n",
        "    #reading from the  buyer csv \n",
        "\n",
        "    buyer = pandas.read_csv(io.StringIO(uploaded['buyers.csv'].decode('utf-8')))\n",
        "    buyer_csv_info = dict(zip(buyer.id.tolist(),buyer.quantity.tolist()))\n",
        "    buyer_data = buyer.id.tolist()\n",
        "\n",
        "    #reading from seller csv    \n",
        "    seller_csv = pandas.read_csv(io.StringIO(uploaded['sellers.csv'].decode('utf-8')))\n",
        "    seller_csv_info = seller_csv.to_dict()\n",
        "    seller_inventory = dict(zip(seller_csv.id.tolist(),seller_csv.inventory.tolist()))\n",
        "    seller_discount = dict(zip(seller_csv.id.tolist(),seller_csv.discount.tolist()))\n",
        "    seller_price = dict(zip(seller_csv.id.tolist(),seller_csv.price.tolist()))\n",
        "    seller_minamt = dict(zip(seller_csv.id.tolist(),seller_csv.minAmount.tolist()))\n",
        "    seller_data = seller_csv.id.tolist()\n",
        "    \n",
        "    #check if the buyer total order quantity is less than or equal to the seller total inventory quantity.\n",
        "    if buyer.quantity.sum() <= seller_csv.inventory.sum():\n",
        "        #generate all possible outcome using cartesian product\n",
        "        match_dict=Possible_match_pair(seller_data,buyer_data)\n",
        "        print(len(match_dict))\n",
        "#         for i in match_dict:\n",
        "#             print(i)\n",
        "        #search all the valid pair \n",
        "        valid_pair = reduce_match_pair_by_quantity(buyer_csv_info,seller_inventory,match_dict)\n",
        "        print(len(valid_pair))\n",
        "#         for i in valid_pair:\n",
        "#             print(i)\n",
        "        #calculate the price and  discount\n",
        "        if len(valid_pair)>0:\n",
        "          price = get_cost(valid_pair,buyer_csv_info,seller_price,seller_discount,seller_minamt)\n",
        "          for i in price:\n",
        "            print(i)\n",
        "          best_pair = bestpair(price) \n",
        "          print(\"best pair\",best_pair)\n",
        "        else:\n",
        "          print(\"there is no possible valid pair\")\n",
        "       \n",
        "#         df = pandas.DataFrame(price)\n",
        "#         df.to_csv('list.csv', index=False)\n",
        "\n",
        "if __name__ == \"__main__\":\n",
        "    main()\n"
      ],
      "execution_count": 0,
      "outputs": []
    },
    {
      "metadata": {
        "id": "B2c2P2aiBQ-u",
        "colab_type": "code",
        "colab": {}
      },
      "cell_type": "code",
      "source": [
        ""
      ],
      "execution_count": 0,
      "outputs": []
    },
    {
      "metadata": {
        "id": "xRRic4-fBQ-5",
        "colab_type": "code",
        "colab": {}
      },
      "cell_type": "code",
      "source": [
        ""
      ],
      "execution_count": 0,
      "outputs": []
    }
  ]
}
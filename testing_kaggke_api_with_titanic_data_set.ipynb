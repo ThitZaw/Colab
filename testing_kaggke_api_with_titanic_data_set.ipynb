{
  "nbformat": 4,
  "nbformat_minor": 0,
  "metadata": {
    "colab": {
      "name": "testing kaggke api with titanic data set.ipynb",
      "provenance": [],
      "include_colab_link": true
    },
    "kernelspec": {
      "name": "python3",
      "display_name": "Python 3"
    },
    "accelerator": "GPU"
  },
  "cells": [
    {
      "cell_type": "markdown",
      "metadata": {
        "id": "view-in-github",
        "colab_type": "text"
      },
      "source": [
        "<a href=\"https://colab.research.google.com/github/ThitZaw/Colab/blob/master/testing_kaggke_api_with_titanic_data_set.ipynb\" target=\"_parent\"><img src=\"https://colab.research.google.com/assets/colab-badge.svg\" alt=\"Open In Colab\"/></a>"
      ]
    },
    {
      "cell_type": "code",
      "metadata": {
        "id": "pHQsFdgKKEkk",
        "colab_type": "code",
        "colab": {}
      },
      "source": [
        "!mkdir ~/.kaggle"
      ],
      "execution_count": 0,
      "outputs": []
    },
    {
      "cell_type": "code",
      "metadata": {
        "id": "6hsqMhuqC2wB",
        "colab_type": "code",
        "colab": {}
      },
      "source": [
        "import json\n",
        "from google.colab import files\n",
        "\n",
        "token = {\"username\":\"YOUR-USER-NAME\",\"key\":\"SOMETHING-VERY-LONG\"}\n",
        "with open('/root/.kaggle/kaggle.json', 'w') as f:\n",
        "  json.dump(token, f)"
      ],
      "execution_count": 0,
      "outputs": []
    },
    {
      "cell_type": "code",
      "metadata": {
        "id": "yJHKfVrlJjmt",
        "colab_type": "code",
        "colab": {}
      },
      "source": [
        "!chmod 600 /root/.kaggle/kaggle.json"
      ],
      "execution_count": 0,
      "outputs": []
    },
    {
      "cell_type": "code",
      "metadata": {
        "id": "SIxPby7WFt2h",
        "colab_type": "code",
        "colab": {}
      },
      "source": [
        "!kaggle config set -n path -v{/content}"
      ],
      "execution_count": 0,
      "outputs": []
    },
    {
      "cell_type": "code",
      "metadata": {
        "id": "ILaEJd3iDAjt",
        "colab_type": "code",
        "colab": {}
      },
      "source": [
        "!kaggle competitions download -c titanic -p /content/titanic"
      ],
      "execution_count": 0,
      "outputs": []
    },
    {
      "cell_type": "code",
      "metadata": {
        "id": "dW9LSectHB4g",
        "colab_type": "code",
        "colab": {}
      },
      "source": [
        "import numpy as np # linear algebra\n",
        "import pandas as pd # data processing, CSV file I/O (e.g. pd.read_csv)\n",
        "import os\n",
        "for dirname, _, filenames in os.walk('/content'):\n",
        "    for filename in filenames:\n",
        "        print(os.path.join(dirname, filename))"
      ],
      "execution_count": 0,
      "outputs": []
    },
    {
      "cell_type": "code",
      "metadata": {
        "id": "3CeOJu0uHcGJ",
        "colab_type": "code",
        "colab": {}
      },
      "source": [
        "train_data = pd.read_csv(\"/content/titanic/train.csv\")\n",
        "train_data.head()"
      ],
      "execution_count": 0,
      "outputs": []
    },
    {
      "cell_type": "code",
      "metadata": {
        "id": "21ZVLY-6Hp-L",
        "colab_type": "code",
        "colab": {}
      },
      "source": [
        "test_data = pd.read_csv(\"/content/titanic/test.csv\")\n",
        "test_data.head()"
      ],
      "execution_count": 0,
      "outputs": []
    },
    {
      "cell_type": "code",
      "metadata": {
        "id": "6FXBFoqEIjHZ",
        "colab_type": "code",
        "colab": {}
      },
      "source": [
        "women = train_data.loc[train_data.Sex == 'female']['Survived']\n",
        "women_survival_rate = sum(women)/len(women)\n",
        "print(\" women survival %\",women_survival_rate)"
      ],
      "execution_count": 0,
      "outputs": []
    },
    {
      "cell_type": "code",
      "metadata": {
        "id": "2169xh1qIlY4",
        "colab_type": "code",
        "colab": {}
      },
      "source": [
        "men = train_data.loc[train_data.Sex == 'male']['Survived']\n",
        "men_survival_rate = sum(men)/len(men)\n",
        "print(\" men survival % \",men_survival_rate)"
      ],
      "execution_count": 0,
      "outputs": []
    },
    {
      "cell_type": "code",
      "metadata": {
        "id": "dlGRtkT1IngT",
        "colab_type": "code",
        "colab": {}
      },
      "source": [
        "max(women_survival_rate,men_survival_rate)"
      ],
      "execution_count": 0,
      "outputs": []
    }
  ]
}
